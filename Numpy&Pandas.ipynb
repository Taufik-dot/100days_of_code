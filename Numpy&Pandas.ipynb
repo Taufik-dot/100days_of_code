{
  "nbformat": 4,
  "nbformat_minor": 0,
  "metadata": {
    "colab": {
      "name": "Numpy&Pandas.ipynb",
      "provenance": [],
      "collapsed_sections": [],
      "authorship_tag": "ABX9TyONoccwDKeBxNrZwH3lca2v"
    },
    "kernelspec": {
      "name": "python3",
      "display_name": "Python 3"
    },
    "language_info": {
      "name": "python"
    }
  },
  "cells": [
    {
      "cell_type": "markdown",
      "source": [
        "Day-13 of #100DaysOfCode"
      ],
      "metadata": {
        "id": "kf8O0xAuaNFL"
      }
    },
    {
      "cell_type": "markdown",
      "source": [
        "## **Numpy**\n",
        "\n",
        "NumPy stands for ‘Numerical Python’ or ‘Numeric Python’. It is an open source module of Python which provides fast mathematical computation on arrays and matrices. Since, arrays and matrices are an essential part of the Machine Learning ecosystem, NumPy along with Machine Learning modules like Scikit-learn, Pandas, Matplotlib, TensorFlow, etc. complete the Python Machine Learning Ecosystem.\n",
        "\n",
        "NumPy provides the essential multi-dimensional array-oriented computing functionalities designed for high-level mathematical functions and scientific computation. Numpy can be imported into the notebook using"
      ],
      "metadata": {
        "id": "FGIHGdPF5ZDc"
      }
    },
    {
      "cell_type": "code",
      "execution_count": 3,
      "metadata": {
        "id": "VHA7lKLU5UoR"
      },
      "outputs": [],
      "source": [
        "import numpy as np"
      ]
    },
    {
      "cell_type": "markdown",
      "source": [
        "NumPy’s main object is the homogeneous multidimensional array. It is a table with same type elements, i.e, integers or string or characters (homogeneous), usually integers. In NumPy, dimensions are called axes. The number of axes is called the rank.\n",
        "\n",
        "There are several ways to create an array in NumPy like np.array, np.zeros, no.ones, etc. Each of them provides some flexibility."
      ],
      "metadata": {
        "id": "HzsJNSka6MoM"
      }
    },
    {
      "cell_type": "code",
      "source": [
        "np_height = np.array([1.84, 1.79,\n",
        "1.82, 1.9, 1.8])\n",
        "np_weight = np.array([66.5, 60.3,\n",
        "64.7, 89.5, 69.8])\n",
        "\n",
        "bmi = np_weight / np_height ** 2\n",
        "bmi"
      ],
      "metadata": {
        "colab": {
          "base_uri": "https://localhost:8080/"
        },
        "id": "dJwNLnhl8W4_",
        "outputId": "e696053d-add0-4b71-f5bd-1341bb0641e7"
      },
      "execution_count": null,
      "outputs": [
        {
          "output_type": "execute_result",
          "data": {
            "text/plain": [
              "array([19.64201323, 18.81963734, 19.53266514, 24.79224377, 21.54320988])"
            ]
          },
          "metadata": {},
          "execution_count": 2
        }
      ]
    },
    {
      "cell_type": "markdown",
      "source": [
        "\n",
        "\n",
        "---\n",
        "\n",
        "\n",
        "\n",
        "---\n",
        "\n"
      ],
      "metadata": {
        "id": "t-La9npS5kZ9"
      }
    },
    {
      "cell_type": "markdown",
      "source": [
        "Day-14 of #100DaysOfCode"
      ],
      "metadata": {
        "id": "xJUyQbpj5ivs"
      }
    },
    {
      "cell_type": "markdown",
      "source": [
        "# Creating NumPy Arrays\n",
        "We can create an Array using NumPy by wrapping it first in a List and converting it to a numpy array."
      ],
      "metadata": {
        "id": "ZDvCZWfJ6Mkq"
      }
    },
    {
      "cell_type": "code",
      "source": [
        "mylist = [1,2,3,4,5]\n",
        "myarr = np.array([mylist])\n",
        "myarr"
      ],
      "metadata": {
        "colab": {
          "base_uri": "https://localhost:8080/"
        },
        "id": "Tn1T7i2z5pHd",
        "outputId": "930aefb7-a03d-4e82-9d43-096a11f616ba"
      },
      "execution_count": null,
      "outputs": [
        {
          "output_type": "execute_result",
          "data": {
            "text/plain": [
              "array([[1, 2, 3, 4, 5]])"
            ]
          },
          "metadata": {},
          "execution_count": 3
        }
      ]
    },
    {
      "cell_type": "markdown",
      "source": [
        "or directly without creating a variable list first"
      ],
      "metadata": {
        "id": "85SXxK7X6tcb"
      }
    },
    {
      "cell_type": "code",
      "source": [
        "myarr = np.array([1,2,3,4,5])\n",
        "myarr"
      ],
      "metadata": {
        "colab": {
          "base_uri": "https://localhost:8080/"
        },
        "id": "7tRdcbIt6Q17",
        "outputId": "ed82e3c5-1df2-40bc-e7de-279ee05d6e53"
      },
      "execution_count": null,
      "outputs": [
        {
          "output_type": "execute_result",
          "data": {
            "text/plain": [
              "array([1, 2, 3, 4, 5])"
            ]
          },
          "metadata": {},
          "execution_count": 4
        }
      ]
    },
    {
      "cell_type": "markdown",
      "source": [
        "There are a few more functions that can be used to create arrays, including zeros(), ones(), arange(), linspace(), logspace().\n",
        "\n",
        "- zeros() -> Create array with value 0\n",
        "\n",
        "- ones() -> Create array with value 1\n",
        "\n",
        "- range() -> Create array with values in range\n",
        "\n",
        "- linspace() -> Create array with values in interval\n",
        "\n",
        "- logspace() -> Creates array with Base10 log values in interval"
      ],
      "metadata": {
        "id": "I_iJ0lib65iI"
      }
    },
    {
      "cell_type": "code",
      "source": [
        "np.zeros(5) # creates an array of 0,  5 times"
      ],
      "metadata": {
        "colab": {
          "base_uri": "https://localhost:8080/"
        },
        "id": "rxceuKTn6uWy",
        "outputId": "fc01395f-4222-479c-bef7-063a30fb53d9"
      },
      "execution_count": null,
      "outputs": [
        {
          "output_type": "execute_result",
          "data": {
            "text/plain": [
              "array([0., 0., 0., 0., 0.])"
            ]
          },
          "metadata": {},
          "execution_count": 5
        }
      ]
    },
    {
      "cell_type": "code",
      "source": [
        "np.ones(5) # create array with value 1,  5 times"
      ],
      "metadata": {
        "colab": {
          "base_uri": "https://localhost:8080/"
        },
        "id": "7Bp1Wlpr66GW",
        "outputId": "acca681a-6b12-41e8-d210-fc0a5b2d90ac"
      },
      "execution_count": null,
      "outputs": [
        {
          "output_type": "execute_result",
          "data": {
            "text/plain": [
              "array([1., 1., 1., 1., 1.])"
            ]
          },
          "metadata": {},
          "execution_count": 6
        }
      ]
    },
    {
      "cell_type": "code",
      "source": [
        "np.arange(1, 10, 2) #arange(start, stop, step)"
      ],
      "metadata": {
        "colab": {
          "base_uri": "https://localhost:8080/"
        },
        "id": "fyYdlYt78D9d",
        "outputId": "24ff5c24-d94c-4d6b-b81c-7d0ae675a337"
      },
      "execution_count": null,
      "outputs": [
        {
          "output_type": "execute_result",
          "data": {
            "text/plain": [
              "array([1, 3, 5, 7, 9])"
            ]
          },
          "metadata": {},
          "execution_count": 7
        }
      ]
    },
    {
      "cell_type": "code",
      "source": [
        "np.linspace(1, 10, 2) # linespace(start, stop, number)"
      ],
      "metadata": {
        "colab": {
          "base_uri": "https://localhost:8080/"
        },
        "id": "IBMbwyBs8F1F",
        "outputId": "05e6d88e-9b9a-4b34-c09b-5b1241b6cdf0"
      },
      "execution_count": null,
      "outputs": [
        {
          "output_type": "execute_result",
          "data": {
            "text/plain": [
              "array([ 1., 10.])"
            ]
          },
          "metadata": {},
          "execution_count": 8
        }
      ]
    },
    {
      "cell_type": "code",
      "source": [
        "np.logspace(1, 10, 2) # logspace(start, stop, number)"
      ],
      "metadata": {
        "colab": {
          "base_uri": "https://localhost:8080/"
        },
        "id": "KFD76fGe8Igr",
        "outputId": "b40081f8-db39-406c-8a52-ddcd6fe43716"
      },
      "execution_count": null,
      "outputs": [
        {
          "output_type": "execute_result",
          "data": {
            "text/plain": [
              "array([1.e+01, 1.e+10])"
            ]
          },
          "metadata": {},
          "execution_count": 9
        }
      ]
    },
    {
      "cell_type": "markdown",
      "source": [
        "## Multidimensional Array\n",
        "One of the interesting features of NumPy is that it can create multidimensional arrays and manipulate arrays easily and quickly\n",
        "\n",
        "Multidimensional array is an array that has more than 1 dimension (1D), can be 2D, 3D, 4D and so on\n",
        "\n",
        "The method of creating a multidimensional array is the same as making a 1-dimensional array, the difference is only in the parameters used\n",
        "\n",
        "Here's an example of making a 2-dimensional array"
      ],
      "metadata": {
        "id": "eJu8FRjL8p1R"
      }
    },
    {
      "cell_type": "code",
      "source": [
        "arrku = np.array([[1,2,3,4,5], [2,4,6,8,10]])"
      ],
      "metadata": {
        "id": "0fItbcDp8Jf2"
      },
      "execution_count": null,
      "outputs": []
    },
    {
      "cell_type": "markdown",
      "source": [
        "The array above is in the form of (2,5) meaning it has 2 rows and 5 columns\n",
        "\n",
        "We can see the number of elements in each dimension by using  ***shapes***"
      ],
      "metadata": {
        "id": "gTcwycs09AGa"
      }
    },
    {
      "cell_type": "code",
      "source": [
        "arrku.shape"
      ],
      "metadata": {
        "colab": {
          "base_uri": "https://localhost:8080/"
        },
        "id": "pJtx8fo98rwQ",
        "outputId": "11c33858-004c-4937-8982-7f4b009abfd5"
      },
      "execution_count": null,
      "outputs": [
        {
          "output_type": "execute_result",
          "data": {
            "text/plain": [
              "(2, 5)"
            ]
          },
          "metadata": {},
          "execution_count": 11
        }
      ]
    },
    {
      "cell_type": "markdown",
      "source": [
        "## Indexing and Slicing\n",
        "We can also do indexing and slicing of arrays easily\n",
        "\n",
        "Indexing starts at 0 and starts with bracket notation “[ ]”\n",
        "\n",
        "For example, we want to find the values that are at index 0, 2, and 4"
      ],
      "metadata": {
        "id": "UqA8wJlp9aoN"
      }
    },
    {
      "cell_type": "code",
      "source": [
        "arr_A = np.array([1,2,3,4,5])\n",
        "print(arr_A[0])\n",
        "print(arr_A[2])\n",
        "print(arr_A[4])"
      ],
      "metadata": {
        "colab": {
          "base_uri": "https://localhost:8080/"
        },
        "id": "6ZihSZkK9cVH",
        "outputId": "738a20bf-c2ec-4e34-fcb4-00f720e25a78"
      },
      "execution_count": null,
      "outputs": [
        {
          "output_type": "stream",
          "name": "stdout",
          "text": [
            "1\n",
            "3\n",
            "5\n"
          ]
        }
      ]
    },
    {
      "cell_type": "code",
      "source": [
        "#To retrieve a row value add “:”\n",
        "arr_A = np.array([1,2,3,4,5])\n",
        "print(arr_A[0:4])"
      ],
      "metadata": {
        "colab": {
          "base_uri": "https://localhost:8080/"
        },
        "id": "EEFW8Ucz9ezY",
        "outputId": "a1bfb5be-1a86-4de9-f370-f05b5cbaf9a4"
      },
      "execution_count": null,
      "outputs": [
        {
          "output_type": "stream",
          "name": "stdout",
          "text": [
            "[1 2 3 4]\n"
          ]
        }
      ]
    },
    {
      "cell_type": "code",
      "source": [
        "#We can also do slicing on multidimensional arrays\n",
        "arr_A = np.array([[1,2,3,4,5], [2,4,6,8,10]])\n",
        "print(arr_A)\n",
        "print(arr_A[1,1])"
      ],
      "metadata": {
        "colab": {
          "base_uri": "https://localhost:8080/"
        },
        "id": "PkROZSsk91P8",
        "outputId": "5267e75a-5e44-4af2-9ec6-604b85f93ced"
      },
      "execution_count": null,
      "outputs": [
        {
          "output_type": "stream",
          "name": "stdout",
          "text": [
            "[[ 1  2  3  4  5]\n",
            " [ 2  4  6  8 10]]\n",
            "4\n"
          ]
        }
      ]
    },
    {
      "cell_type": "markdown",
      "source": [
        "## Arithmetic Operation\n",
        "We can use arithmetic operations such as addition, subtraction, multiplication, division and power\n",
        "\n",
        "The operators used are +, -, *, / and **\n",
        "\n",
        "The following is an example of arithmetic operations on arrays"
      ],
      "metadata": {
        "id": "GZZV6gea-K7y"
      }
    },
    {
      "cell_type": "code",
      "source": [
        "arr_A = np.array([1,2,3,4,5])\n",
        "arr_B = np.array([2,2,2,2,2])\n",
        "\n",
        "print(\"Addition = \", arr_A + arr_B)\n",
        "print(\"Subtraction = \", arr_A - arr_B)\n",
        "print(\"Multiplication = \", arr_A * arr_B)\n",
        "print(\"Division = \", arr_A / arr_B)\n",
        "print(\"Power = \", arr_A ** arr_B)"
      ],
      "metadata": {
        "colab": {
          "base_uri": "https://localhost:8080/"
        },
        "id": "IErR6CBJ-MYm",
        "outputId": "027d3228-c464-46b1-d0d5-604f5a774a9e"
      },
      "execution_count": null,
      "outputs": [
        {
          "output_type": "stream",
          "name": "stdout",
          "text": [
            "Addition =  [3 4 5 6 7]\n",
            "Subtraction =  [-1  0  1  2  3]\n",
            "Multiplication =  [ 2  4  6  8 10]\n",
            "Division =  [0.5 1.  1.5 2.  2.5]\n",
            "Power =  [ 1  4  9 16 25]\n"
          ]
        }
      ]
    },
    {
      "cell_type": "markdown",
      "source": [
        "## Mathematical Operation\n",
        "NumPy has mathematical functions that can be used on Arrays\n",
        "\n",
        "Some examples of statistical functions include min(), max(), mean(), sum(), std()"
      ],
      "metadata": {
        "id": "eZ8aU6pe-mD8"
      }
    },
    {
      "cell_type": "code",
      "source": [
        "myarr = np.array([1,2,3,4,5])\n",
        "print(\"Minimum  = \", myarr.min())\n",
        "print(\"Maximum  = \", myarr.max())\n",
        "print(\"Average = \", myarr.mean())\n",
        "print(\"Total value = \", myarr.sum())\n",
        "print(\"Standard Deviation = \", myarr.std())"
      ],
      "metadata": {
        "colab": {
          "base_uri": "https://localhost:8080/"
        },
        "id": "S3i1MwrG-nVX",
        "outputId": "01e58630-361d-4adc-b117-66e6ee7e9ef0"
      },
      "execution_count": null,
      "outputs": [
        {
          "output_type": "stream",
          "name": "stdout",
          "text": [
            "Minimum  =  1\n",
            "Maximum  =  5\n",
            "Average =  3.0\n",
            "Total value =  15\n",
            "Standard Deviation =  1.4142135623730951\n"
          ]
        }
      ]
    },
    {
      "cell_type": "code",
      "source": [
        "#There are also functions argmin() and argmax() to get the index of the minimum and maximum values\n",
        "print(\"Min Index = \", myarr.argmin())\n",
        "print(\"Max index = \", myarr.argmax())"
      ],
      "metadata": {
        "colab": {
          "base_uri": "https://localhost:8080/"
        },
        "id": "3hDjeYg6-_tp",
        "outputId": "3c2bb588-c579-46a0-8360-48e2d2a168fd"
      },
      "execution_count": null,
      "outputs": [
        {
          "output_type": "stream",
          "name": "stdout",
          "text": [
            "Min Index =  0\n",
            "Max index =  4\n"
          ]
        }
      ]
    },
    {
      "cell_type": "markdown",
      "source": [
        "\n",
        "\n",
        "---\n",
        "\n",
        "\n",
        "\n",
        "---\n",
        "\n"
      ],
      "metadata": {
        "id": "6AvkjAhF-8Tv"
      }
    },
    {
      "cell_type": "markdown",
      "source": [
        "Day-15 of #100DaysOfCode"
      ],
      "metadata": {
        "id": "t6cfmazJ_KA3"
      }
    },
    {
      "cell_type": "markdown",
      "source": [
        "# **Pandas**\n",
        "Pandas is a Python library that is built on top of NumPy and is suitable for preprocessing data and analysis\n",
        "\n",
        "Panda is capable of processing various types of data such as CSV, JSON, Excel, TXT, HTML, XML, PDF, Pickle and others"
      ],
      "metadata": {
        "id": "Yb1yDcMz_xpC"
      }
    },
    {
      "cell_type": "code",
      "source": [
        "#To use Pandas we have to import it first\n",
        "import pandas as pd"
      ],
      "metadata": {
        "id": "Iv5seI24_5Qh"
      },
      "execution_count": 2,
      "outputs": []
    },
    {
      "cell_type": "markdown",
      "source": [
        "# Pandas Series\n",
        "Pandas Series is a basic Pandas data structure in the form of a one-dimensional labeled array. Series can accommodate various types of data such as integers, strings, floats, etc.\n",
        "\n",
        "Series can be described as an extension of NumPy 1D which has an explicit index\n",
        "\n",
        "More clearly the difference between Pandas Series vs NumPy Array can be read here\n",
        "\n",
        "Create Pandas Series\n",
        "We can create Series with input from List and Array"
      ],
      "metadata": {
        "id": "wfhxaOV1AytD"
      }
    },
    {
      "cell_type": "code",
      "source": [
        "# List\n",
        "myseries = pd.Series([2,4,6,8,10])\n",
        "# Array\n",
        "myseries = pd.Series(np.array([2,4,6,8,10]))"
      ],
      "metadata": {
        "id": "hvzkpeSABCqu"
      },
      "execution_count": null,
      "outputs": []
    },
    {
      "cell_type": "markdown",
      "source": [
        "\n",
        "\n",
        "---\n",
        "\n",
        "\n",
        "\n",
        "---\n",
        "\n"
      ],
      "metadata": {
        "id": "kQ3xFiFsOPkv"
      }
    },
    {
      "cell_type": "markdown",
      "source": [
        "Day-16 of #100DaysOfCode"
      ],
      "metadata": {
        "id": "E9TJJc7YOOwU"
      }
    },
    {
      "cell_type": "markdown",
      "source": [
        "in pandas We can also modify the index shape like this"
      ],
      "metadata": {
        "id": "oBYd_LixPGPE"
      }
    },
    {
      "cell_type": "code",
      "source": [
        "data = np.array([2,4,6,8,10])\n",
        "nilai_series = pd.Series(data, index=['a','b','c','d','e'])\n",
        "\n",
        "nilai_series"
      ],
      "metadata": {
        "colab": {
          "base_uri": "https://localhost:8080/"
        },
        "id": "85L1OBQbOUiU",
        "outputId": "cfbea383-327b-44f4-b478-f068c75a113d"
      },
      "execution_count": null,
      "outputs": [
        {
          "output_type": "execute_result",
          "data": {
            "text/plain": [
              "a     2\n",
              "b     4\n",
              "c     6\n",
              "d     8\n",
              "e    10\n",
              "dtype: int64"
            ]
          },
          "metadata": {},
          "execution_count": 5
        }
      ]
    },
    {
      "cell_type": "code",
      "source": [
        "#To access the value of Series we can use the index label\n",
        "data = np.array([2,4,6,8,10])\n",
        "nilai_series = pd.Series(data, index=['a','b','c','d','e'])\n",
        "print(nilai_series['a'])\n",
        "print(nilai_series['d'])"
      ],
      "metadata": {
        "colab": {
          "base_uri": "https://localhost:8080/"
        },
        "id": "6cyQ_He2PVg-",
        "outputId": "2cad3898-5842-4b01-ebff-148c48e5a8d2"
      },
      "execution_count": null,
      "outputs": [
        {
          "output_type": "stream",
          "name": "stdout",
          "text": [
            "2\n",
            "8\n"
          ]
        }
      ]
    },
    {
      "cell_type": "markdown",
      "source": [
        "## Access Data Series\n",
        "In addition to being able to access Series value from the label, you can also access the index, such as NumPy. Index Series also starts from 0"
      ],
      "metadata": {
        "id": "PJhX6NkHPoLc"
      }
    },
    {
      "cell_type": "code",
      "source": [
        "data = np.array([2,4,6,8,10])\n",
        "nilai_series = pd.Series(data, index=['a','b','c','d','e'])\n",
        "print(nilai_series[0])\n",
        "print(nilai_series[3])"
      ],
      "metadata": {
        "colab": {
          "base_uri": "https://localhost:8080/"
        },
        "id": "BZVX6r9DPlDG",
        "outputId": "edef3619-5170-40d5-e703-fc226a1f841e"
      },
      "execution_count": null,
      "outputs": [
        {
          "output_type": "stream",
          "name": "stdout",
          "text": [
            "2\n",
            "8\n"
          ]
        }
      ]
    },
    {
      "cell_type": "markdown",
      "source": [
        "# To take series data use “:”\n",
        "\n",
        "For example, if you want to take values starting from the 2nd index to the end,"
      ],
      "metadata": {
        "id": "8N4nPVI3Y6v1"
      }
    },
    {
      "cell_type": "code",
      "source": [
        "data = np.array([2,4,6,8,10])\n",
        "value_series = pd.Series(data, index=['a','b','c','d','e'])\n",
        "print(value_series[2:])"
      ],
      "metadata": {
        "colab": {
          "base_uri": "https://localhost:8080/"
        },
        "id": "s35awCHIZX0m",
        "outputId": "da1bf280-6bb9-4e33-a6ae-38ef6104f886"
      },
      "execution_count": 4,
      "outputs": [
        {
          "output_type": "stream",
          "name": "stdout",
          "text": [
            "c     6\n",
            "d     8\n",
            "e    10\n",
            "dtype: int64\n"
          ]
        }
      ]
    },
    {
      "cell_type": "markdown",
      "source": [
        "# loc and iloc\n",
        "The loc is used to index data as in the above case"
      ],
      "metadata": {
        "id": "jx3dsHWaZoBi"
      }
    },
    {
      "cell_type": "code",
      "source": [
        "data = np.array([2,4,6,8,10])\n",
        "value_series = pd.Series(data)\n",
        "print(value_series.loc[0])\n",
        "print(value_series.loc[2])"
      ],
      "metadata": {
        "colab": {
          "base_uri": "https://localhost:8080/"
        },
        "id": "zbmHTN8xZtxP",
        "outputId": "2dec6e1f-7c23-4789-bdbd-cf9158f9ad2c"
      },
      "execution_count": 5,
      "outputs": [
        {
          "output_type": "stream",
          "name": "stdout",
          "text": [
            "2\n",
            "6\n"
          ]
        }
      ]
    },
    {
      "cell_type": "markdown",
      "source": [
        "The iloc function is almost the same as loc, but only for index integers. So when the index label is not an integer then an error will occur when calling\n",
        "\n",
        "For example if we create a Series with label index not integer"
      ],
      "metadata": {
        "id": "olvQwdN0aD4q"
      }
    },
    {
      "cell_type": "code",
      "source": [
        "data = np.array([2,4,6,8,10])\n",
        "value_series = pd.Series(data, index=['a','b','c','d','e'])\n",
        "print(value_series.iloc['a'])\n",
        "#When called the explicit label will be error"
      ],
      "metadata": {
        "colab": {
          "base_uri": "https://localhost:8080/",
          "height": 388
        },
        "id": "JbjvRj_1aL8d",
        "outputId": "68ce1fdd-0f44-4a09-8b35-2464e982b4c3"
      },
      "execution_count": 9,
      "outputs": [
        {
          "output_type": "error",
          "ename": "TypeError",
          "evalue": "ignored",
          "traceback": [
            "\u001b[0;31m---------------------------------------------------------------------------\u001b[0m",
            "\u001b[0;31mTypeError\u001b[0m                                 Traceback (most recent call last)",
            "\u001b[0;32m<ipython-input-9-4a32e59055dc>\u001b[0m in \u001b[0;36m<module>\u001b[0;34m()\u001b[0m\n\u001b[1;32m      1\u001b[0m \u001b[0mdata\u001b[0m \u001b[0;34m=\u001b[0m \u001b[0mnp\u001b[0m\u001b[0;34m.\u001b[0m\u001b[0marray\u001b[0m\u001b[0;34m(\u001b[0m\u001b[0;34m[\u001b[0m\u001b[0;36m2\u001b[0m\u001b[0;34m,\u001b[0m\u001b[0;36m4\u001b[0m\u001b[0;34m,\u001b[0m\u001b[0;36m6\u001b[0m\u001b[0;34m,\u001b[0m\u001b[0;36m8\u001b[0m\u001b[0;34m,\u001b[0m\u001b[0;36m10\u001b[0m\u001b[0;34m]\u001b[0m\u001b[0;34m)\u001b[0m\u001b[0;34m\u001b[0m\u001b[0;34m\u001b[0m\u001b[0m\n\u001b[1;32m      2\u001b[0m \u001b[0mvalue_series\u001b[0m \u001b[0;34m=\u001b[0m \u001b[0mpd\u001b[0m\u001b[0;34m.\u001b[0m\u001b[0mSeries\u001b[0m\u001b[0;34m(\u001b[0m\u001b[0mdata\u001b[0m\u001b[0;34m,\u001b[0m \u001b[0mindex\u001b[0m\u001b[0;34m=\u001b[0m\u001b[0;34m[\u001b[0m\u001b[0;34m'a'\u001b[0m\u001b[0;34m,\u001b[0m\u001b[0;34m'b'\u001b[0m\u001b[0;34m,\u001b[0m\u001b[0;34m'c'\u001b[0m\u001b[0;34m,\u001b[0m\u001b[0;34m'd'\u001b[0m\u001b[0;34m,\u001b[0m\u001b[0;34m'e'\u001b[0m\u001b[0;34m]\u001b[0m\u001b[0;34m)\u001b[0m\u001b[0;34m\u001b[0m\u001b[0;34m\u001b[0m\u001b[0m\n\u001b[0;32m----> 3\u001b[0;31m \u001b[0mprint\u001b[0m\u001b[0;34m(\u001b[0m\u001b[0mvalue_series\u001b[0m\u001b[0;34m.\u001b[0m\u001b[0miloc\u001b[0m\u001b[0;34m[\u001b[0m\u001b[0;34m'a'\u001b[0m\u001b[0;34m]\u001b[0m\u001b[0;34m)\u001b[0m\u001b[0;34m\u001b[0m\u001b[0;34m\u001b[0m\u001b[0m\n\u001b[0m\u001b[1;32m      4\u001b[0m \u001b[0;31m#When called the explicit label will be error\u001b[0m\u001b[0;34m\u001b[0m\u001b[0;34m\u001b[0m\u001b[0;34m\u001b[0m\u001b[0m\n",
            "\u001b[0;32m/usr/local/lib/python3.7/dist-packages/pandas/core/indexing.py\u001b[0m in \u001b[0;36m__getitem__\u001b[0;34m(self, key)\u001b[0m\n\u001b[1;32m    929\u001b[0m \u001b[0;34m\u001b[0m\u001b[0m\n\u001b[1;32m    930\u001b[0m             \u001b[0mmaybe_callable\u001b[0m \u001b[0;34m=\u001b[0m \u001b[0mcom\u001b[0m\u001b[0;34m.\u001b[0m\u001b[0mapply_if_callable\u001b[0m\u001b[0;34m(\u001b[0m\u001b[0mkey\u001b[0m\u001b[0;34m,\u001b[0m \u001b[0mself\u001b[0m\u001b[0;34m.\u001b[0m\u001b[0mobj\u001b[0m\u001b[0;34m)\u001b[0m\u001b[0;34m\u001b[0m\u001b[0;34m\u001b[0m\u001b[0m\n\u001b[0;32m--> 931\u001b[0;31m             \u001b[0;32mreturn\u001b[0m \u001b[0mself\u001b[0m\u001b[0;34m.\u001b[0m\u001b[0m_getitem_axis\u001b[0m\u001b[0;34m(\u001b[0m\u001b[0mmaybe_callable\u001b[0m\u001b[0;34m,\u001b[0m \u001b[0maxis\u001b[0m\u001b[0;34m=\u001b[0m\u001b[0maxis\u001b[0m\u001b[0;34m)\u001b[0m\u001b[0;34m\u001b[0m\u001b[0;34m\u001b[0m\u001b[0m\n\u001b[0m\u001b[1;32m    932\u001b[0m \u001b[0;34m\u001b[0m\u001b[0m\n\u001b[1;32m    933\u001b[0m     \u001b[0;32mdef\u001b[0m \u001b[0m_is_scalar_access\u001b[0m\u001b[0;34m(\u001b[0m\u001b[0mself\u001b[0m\u001b[0;34m,\u001b[0m \u001b[0mkey\u001b[0m\u001b[0;34m:\u001b[0m \u001b[0mtuple\u001b[0m\u001b[0;34m)\u001b[0m\u001b[0;34m:\u001b[0m\u001b[0;34m\u001b[0m\u001b[0;34m\u001b[0m\u001b[0m\n",
            "\u001b[0;32m/usr/local/lib/python3.7/dist-packages/pandas/core/indexing.py\u001b[0m in \u001b[0;36m_getitem_axis\u001b[0;34m(self, key, axis)\u001b[0m\n\u001b[1;32m   1561\u001b[0m             \u001b[0mkey\u001b[0m \u001b[0;34m=\u001b[0m \u001b[0mitem_from_zerodim\u001b[0m\u001b[0;34m(\u001b[0m\u001b[0mkey\u001b[0m\u001b[0;34m)\u001b[0m\u001b[0;34m\u001b[0m\u001b[0;34m\u001b[0m\u001b[0m\n\u001b[1;32m   1562\u001b[0m             \u001b[0;32mif\u001b[0m \u001b[0;32mnot\u001b[0m \u001b[0mis_integer\u001b[0m\u001b[0;34m(\u001b[0m\u001b[0mkey\u001b[0m\u001b[0;34m)\u001b[0m\u001b[0;34m:\u001b[0m\u001b[0;34m\u001b[0m\u001b[0;34m\u001b[0m\u001b[0m\n\u001b[0;32m-> 1563\u001b[0;31m                 \u001b[0;32mraise\u001b[0m \u001b[0mTypeError\u001b[0m\u001b[0;34m(\u001b[0m\u001b[0;34m\"Cannot index by location index with a non-integer key\"\u001b[0m\u001b[0;34m)\u001b[0m\u001b[0;34m\u001b[0m\u001b[0;34m\u001b[0m\u001b[0m\n\u001b[0m\u001b[1;32m   1564\u001b[0m \u001b[0;34m\u001b[0m\u001b[0m\n\u001b[1;32m   1565\u001b[0m             \u001b[0;31m# validate the location\u001b[0m\u001b[0;34m\u001b[0m\u001b[0;34m\u001b[0m\u001b[0;34m\u001b[0m\u001b[0m\n",
            "\u001b[0;31mTypeError\u001b[0m: Cannot index by location index with a non-integer key"
          ]
        }
      ]
    },
    {
      "cell_type": "markdown",
      "source": [
        "\n",
        "\n",
        "---\n",
        "\n",
        "\n",
        "\n",
        "---\n",
        "\n"
      ],
      "metadata": {
        "id": "1EwUxh6sY34y"
      }
    },
    {
      "cell_type": "markdown",
      "source": [
        "Day-16 of #100DaysOfCode"
      ],
      "metadata": {
        "id": "4LzP71mzY13s"
      }
    },
    {
      "cell_type": "markdown",
      "source": [
        "# Practice\n",
        "We will do Pandas Series handson with real dataset\n",
        "\n",
        "The dataset that will be used is the Titanic dataset which is one of the well-known datasets"
      ],
      "metadata": {
        "id": "OF-e2X5UbhNt"
      }
    },
    {
      "cell_type": "code",
      "source": [
        "import numpy as np\n",
        "import pandas as pd"
      ],
      "metadata": {
        "id": "HLbHICodbnoM"
      },
      "execution_count": 11,
      "outputs": []
    },
    {
      "cell_type": "code",
      "source": [
        "#Next, use the read_csv() function to read the Titanic dataset \n",
        "#in the form of a CSV file and save it as a variable.\n",
        "\n",
        "data = pd.read_csv('titanic.csv')"
      ],
      "metadata": {
        "id": "yLTpTAFoY4iB"
      },
      "execution_count": 12,
      "outputs": []
    },
    {
      "cell_type": "code",
      "source": [
        "'''\n",
        "The data will be stored in the data variable, \n",
        "then we will process it with Pandas Series and we focus on the column Name\n",
        "'''\n",
        "data_series = pd.Series(data['Name'])"
      ],
      "metadata": {
        "id": "KqeMWNgQZC3_"
      },
      "execution_count": 14,
      "outputs": []
    },
    {
      "cell_type": "code",
      "source": [
        "#Use the head() function to return a sample of the top 5 data (default)\n",
        "data_series.head()"
      ],
      "metadata": {
        "colab": {
          "base_uri": "https://localhost:8080/"
        },
        "id": "nCI3_li1cak1",
        "outputId": "e073b5a4-f18b-4bdb-ea17-91d70a0a7545"
      },
      "execution_count": 15,
      "outputs": [
        {
          "output_type": "execute_result",
          "data": {
            "text/plain": [
              "0                              Braund, Mr. Owen Harris\n",
              "1    Cumings, Mrs. John Bradley (Florence Briggs Th...\n",
              "2                               Heikkinen, Miss. Laina\n",
              "3         Futrelle, Mrs. Jacques Heath (Lily May Peel)\n",
              "4                             Allen, Mr. William Henry\n",
              "Name: Name, dtype: object"
            ]
          },
          "metadata": {},
          "execution_count": 15
        }
      ]
    },
    {
      "cell_type": "code",
      "source": [
        "#We can also use tail() function to get the last 5 data\n",
        "data_series.tail()"
      ],
      "metadata": {
        "colab": {
          "base_uri": "https://localhost:8080/"
        },
        "id": "ePd8eNIoctS4",
        "outputId": "ff3ecc25-da26-4591-f09c-60b4ddc0e505"
      },
      "execution_count": 16,
      "outputs": [
        {
          "output_type": "execute_result",
          "data": {
            "text/plain": [
              "886                       Montvila, Rev. Juozas\n",
              "887                Graham, Miss. Margaret Edith\n",
              "888    Johnston, Miss. Catherine Helen \"Carrie\"\n",
              "889                       Behr, Mr. Karl Howell\n",
              "890                         Dooley, Mr. Patrick\n",
              "Name: Name, dtype: object"
            ]
          },
          "metadata": {},
          "execution_count": 16
        }
      ]
    },
    {
      "cell_type": "code",
      "source": [
        "'''\n",
        "Next we will try slicing data\n",
        "For example, displaying the name of the 100th and 200th index passengers\n",
        "'''\n",
        "print(data_series[100])\n",
        "print(data_series[200])"
      ],
      "metadata": {
        "colab": {
          "base_uri": "https://localhost:8080/"
        },
        "id": "Wbuh4UZbc7Kb",
        "outputId": "5a4388fb-af2e-4b26-f50e-c16d3437e7bb"
      },
      "execution_count": 17,
      "outputs": [
        {
          "output_type": "stream",
          "name": "stdout",
          "text": [
            "Petranec, Miss. Matilda\n",
            "Vande Walle, Mr. Nestor Cyriel\n"
          ]
        }
      ]
    },
    {
      "cell_type": "code",
      "source": [
        "#We can also use loc() or iloc() functions\n",
        "print(data_series.loc[100])\n",
        "print(data_series.loc[200])"
      ],
      "metadata": {
        "colab": {
          "base_uri": "https://localhost:8080/"
        },
        "id": "8DhkL7MmdNMi",
        "outputId": "b35149d4-5830-4764-f718-5337da605682"
      },
      "execution_count": 18,
      "outputs": [
        {
          "output_type": "stream",
          "name": "stdout",
          "text": [
            "Petranec, Miss. Matilda\n",
            "Vande Walle, Mr. Nestor Cyriel\n"
          ]
        }
      ]
    },
    {
      "cell_type": "code",
      "source": [
        ""
      ],
      "metadata": {
        "id": "OTuFlRzydXU8"
      },
      "execution_count": null,
      "outputs": []
    }
  ]
}