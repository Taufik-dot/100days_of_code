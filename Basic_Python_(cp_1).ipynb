{
  "nbformat": 4,
  "nbformat_minor": 0,
  "metadata": {
    "colab": {
      "name": "Basic Python (cp.1).ipynb",
      "provenance": [],
      "collapsed_sections": [],
      "authorship_tag": "ABX9TyPh63No9H6DO5JftDz19gKR"
    },
    "kernelspec": {
      "name": "python3",
      "display_name": "Python 3"
    },
    "language_info": {
      "name": "python"
    }
  },
  "cells": [
    {
      "cell_type": "markdown",
      "source": [
        "Day-1 of #100DaysOfCode"
      ],
      "metadata": {
        "id": "WRW13l6OkadS"
      }
    },
    {
      "cell_type": "markdown",
      "source": [
        "# Basic Python (cp.1)\n",
        "\n",
        "by. N. Taufik Kurrahman"
      ],
      "metadata": {
        "id": "OoMsLIvxeKS6"
      }
    },
    {
      "cell_type": "markdown",
      "source": [
        "Python is a programming language intended for general-purpose programming and belongs to the category of high-level programming languages.\n",
        "\n",
        "As a general-purpose programming language, Python is used for various problems such as: web or mobile application development, data science, etc.\n",
        "\n",
        "Python is included in the high-level programming language category because the Python programming language is easy to read and write by humans.\n",
        "\n",
        "The Python programming language was created by Guido van Rossum and was first introduced in 1991 as an open-source project.\n",
        "\n",
        "The open-source nature of Python means that anyone can develop computer programs using the Python programming language for both commercial/non-commercial purposes."
      ],
      "metadata": {
        "id": "rP7IJuPtlNow"
      }
    },
    {
      "cell_type": "markdown",
      "source": [
        "# Print() function.\n",
        "With the print() function, I get output/a message to the user's screen."
      ],
      "metadata": {
        "id": "AJ7Bv46slhAu"
      }
    },
    {
      "cell_type": "code",
      "source": [
        "print(\"Hello World!\")   #important thing for Start Learning Programming Language"
      ],
      "metadata": {
        "colab": {
          "base_uri": "https://localhost:8080/"
        },
        "id": "nGIf9QRelOa6",
        "outputId": "80cef323-3015-448d-d6dc-d43e1ec0f5ee"
      },
      "execution_count": null,
      "outputs": [
        {
          "output_type": "stream",
          "name": "stdout",
          "text": [
            "Hello World!\n"
          ]
        }
      ]
    },
    {
      "cell_type": "code",
      "source": [
        "print(\"I'm currently learning Python :)\")"
      ],
      "metadata": {
        "colab": {
          "base_uri": "https://localhost:8080/"
        },
        "id": "yu8LVpXSmAb5",
        "outputId": "7b12a450-166e-4238-d3c2-4dba26d1321d"
      },
      "execution_count": null,
      "outputs": [
        {
          "output_type": "stream",
          "name": "stdout",
          "text": [
            "I'm currently learning Python :)\n"
          ]
        }
      ]
    },
    {
      "cell_type": "markdown",
      "source": [
        "# Program Structure of Python"
      ],
      "metadata": {
        "id": "W5Mj-bwpoSlX"
      }
    },
    {
      "cell_type": "code",
      "source": [
        "#1. Statements: Instructions given line by line to be executed by the machine.\n",
        "\n",
        "print(\"Nurul Taufik Kurrahman\")"
      ],
      "metadata": {
        "colab": {
          "base_uri": "https://localhost:8080/"
        },
        "id": "MRHYEVpIgyH7",
        "outputId": "59a42a39-6d86-4642-e251-1cbeb5c9d6c7"
      },
      "execution_count": null,
      "outputs": [
        {
          "output_type": "stream",
          "name": "stdout",
          "text": [
            "Nurul Taufik Kurrahman\n"
          ]
        }
      ]
    },
    {
      "cell_type": "code",
      "source": [
        "#2. Variables: Storage locations that can be used to store data or information.\n",
        "\n",
        "var1 = 4\n",
        "var2 = 9\n",
        "var3 = \"Taufik\"\n",
        "\n",
        "print(var1 + var2)\n",
        "print(var3 + str(var1 + var2))"
      ],
      "metadata": {
        "colab": {
          "base_uri": "https://localhost:8080/"
        },
        "id": "0zrDXr4OoSMm",
        "outputId": "7efb1119-c3e1-4454-b42b-004cce09ff20"
      },
      "execution_count": null,
      "outputs": [
        {
          "output_type": "stream",
          "name": "stdout",
          "text": [
            "13\n",
            "Taufik13\n"
          ]
        }
      ]
    },
    {
      "cell_type": "code",
      "source": [
        "price = 20000\n",
        "discount = 2000\n",
        "price_after_discount = price - discount\n",
        "final_price = price_after_discount * 1.1\n",
        "print(final_price)"
      ],
      "metadata": {
        "colab": {
          "base_uri": "https://localhost:8080/"
        },
        "id": "TjA9tVXskU4C",
        "outputId": "9572a49d-ee98-4691-a18e-e8a3f0bbdff4"
      },
      "execution_count": null,
      "outputs": [
        {
          "output_type": "stream",
          "name": "stdout",
          "text": [
            "19800.0\n"
          ]
        }
      ]
    },
    {
      "cell_type": "markdown",
      "source": [
        "**Python Variable Naming Rules**\n",
        "\n",
        "\n",
        "Naming a variable in python can be said to be valid as long as it fulfills the following rules:\n",
        "\n",
        "The name of a variable must start with a letter (a-z, A-Z) or an underscore character (_) and cannot start with a number (0-9).\n",
        "Variables can only contain alphabetic characters, numbers and underscores (a-z, A-Z, 0-9, _).\n",
        "Variables are case-sensitive which means that the variables HIGH, high, and High refer to three different variables.\n",
        "Apart from being able to declare the value of a variable line by line, we can also declare multiple variables on a single line by using expressions such as:"
      ],
      "metadata": {
        "id": "t5ChPOvCpkaq"
      }
    },
    {
      "cell_type": "code",
      "source": [
        "bil1, bil2 = 3, 4\n",
        "example = \"How are you?\"; sampling = \"Good bye\""
      ],
      "metadata": {
        "id": "JJdk9OBGYYka"
      },
      "execution_count": null,
      "outputs": []
    },
    {
      "cell_type": "markdown",
      "source": [
        "1. Reserved Words: A collection of words that have a special meaning in the Python programming language. The words False, return, and for are examples of reserved words.\n",
        "\n",
        "   Note: Cannot declare variables using a reserved word!\n",
        "\n",
        " \n",
        "2. Whitespace: In Python, spaces and tabs have a special meaning to mark a series of blocks in Python code. This will be explained further in the section on selection structure and loop structure in Python.\n",
        "\n",
        "\n",
        "3. Comments: Comments are a collection of text written in a program that will not affect the results of a program. Although it does not affect program results, comments are an important component in program development. This is because comments can be inserted between a set of statements that have been written, to communicate with other fellow programmers in the same team.\n",
        "\n",
        "   There are two types of comments in Python, that is:"
      ],
      "metadata": {
        "id": "oGXdwy0xuBIJ"
      }
    },
    {
      "cell_type": "code",
      "source": [
        "\n",
        "# a. single line comment (comments dalam satu baris) \n",
        "    #comment satu baris\n",
        "\n",
        "'''\n",
        "b. multi line comment (comments dalam beberapa baris) \n",
        "\n",
        "    multi line comment\n",
        "    multi line comment\n",
        "    multi line comment\n",
        "''' "
      ],
      "metadata": {
        "colab": {
          "base_uri": "https://localhost:8080/",
          "height": 35
        },
        "id": "iVGHV0ARoYKR",
        "outputId": "0a91f196-e1e5-486f-b082-3f494b526c82"
      },
      "execution_count": null,
      "outputs": [
        {
          "output_type": "execute_result",
          "data": {
            "application/vnd.google.colaboratory.intrinsic+json": {
              "type": "string"
            },
            "text/plain": [
              "'\\nb. multi line comment (comments dalam beberapa baris) \\n\\n    multi line comment\\n    multi line comment\\n    multi line comment\\n'"
            ]
          },
          "metadata": {},
          "execution_count": 14
        }
      ]
    },
    {
      "cell_type": "markdown",
      "source": [
        "# Basic Data Types: Null, Boolean, Numeric and Text\n",
        "1. Null Type: The null data type in Python is used to store empty or non-existent values which are declared as None.\n",
        "\n",
        "2. Boolean Type: The boolean or bool data type is used to store the truth value (True, False) of a logical expression.\n",
        "\n",
        "3. Numeric Type: The data type used to store data in the form of numbers. There are two kinds of numeric data types, namely int to store integers (e.g.: 0, 1, 2, 404, -500, -1000) and float to store real numbers (e.g.: 0.5, 1.01, 2.05, 4.04)\n",
        "\n",
        "4. Text Type: In Python, the string data type (str) is used to store text data. The string data type starts with quotation marks (either one/two) and ends with quotation marks. Examples: \"Text\", \"Sample text in Python\", and 'Text in Python'."
      ],
      "metadata": {
        "id": "U12YQB3wu8sx"
      }
    },
    {
      "cell_type": "code",
      "source": [
        "x = True\n",
        "y = False\n",
        "example_int = 99\n",
        "example_float = 45.75\n",
        "example_str = 'example of string'\n",
        "\n",
        "print(x)\n",
        "print(example_int)\n",
        "print(example_float)\n",
        "print(example_str)"
      ],
      "metadata": {
        "id": "pIW9axdDoyh7",
        "colab": {
          "base_uri": "https://localhost:8080/"
        },
        "outputId": "550f689d-6c0b-405b-deb7-da0d590c0f0b"
      },
      "execution_count": null,
      "outputs": [
        {
          "output_type": "stream",
          "name": "stdout",
          "text": [
            "True\n",
            "99\n",
            "45.75\n",
            "example of string\n"
          ]
        }
      ]
    },
    {
      "cell_type": "markdown",
      "source": [
        "\n",
        "\n",
        "---\n",
        "\n",
        "\n",
        "\n",
        "\n",
        "---\n",
        "\n"
      ],
      "metadata": {
        "id": "Kis727FIu6pq"
      }
    },
    {
      "cell_type": "markdown",
      "source": [
        "Day-2 of #100DaysOfCode"
      ],
      "metadata": {
        "id": "WInLy4NUyf1d"
      }
    },
    {
      "cell_type": "markdown",
      "source": [
        "## Sequence Type – Part 1 (List)\n",
        "This data type is used to store an organized collection of data. The form of this sequence data type is List and Tuple. In part 1, I will learn the list data type first.\n",
        "\n",
        "The list data type begins with an opening square bracket ( [ ), separates each element in it with a comma ( , ) and ends with a closing square bracket ( ] )."
      ],
      "metadata": {
        "id": "ClMhWP0jzjAU"
      }
    },
    {
      "cell_type": "code",
      "source": [
        "list_example = [1, 'two', 3.0, True]"
      ],
      "metadata": {
        "id": "1apKLVNIyiZD"
      },
      "execution_count": null,
      "outputs": []
    },
    {
      "cell_type": "markdown",
      "source": [
        "Each element of the list has an index that starts at 0 and continues to increase by one until the last element of the list. \n",
        "\n",
        "Example:"
      ],
      "metadata": {
        "id": "C6CDje_71F69"
      }
    },
    {
      "cell_type": "code",
      "source": [
        "print(list_example[0])\n",
        "print(list_example[3])"
      ],
      "metadata": {
        "colab": {
          "base_uri": "https://localhost:8080/"
        },
        "id": "G0GCUFWG0v5o",
        "outputId": "95092d84-ac60-4cfa-bd09-bc2caa301119"
      },
      "execution_count": null,
      "outputs": [
        {
          "output_type": "stream",
          "name": "stdout",
          "text": [
            "1\n",
            "True\n"
          ]
        }
      ]
    },
    {
      "cell_type": "markdown",
      "source": [
        "The list data type is **Mutable**, which means that each element in the list can be changed after the list declaration process. For example:"
      ],
      "metadata": {
        "id": "oy9vbfW21mb9"
      }
    },
    {
      "cell_type": "code",
      "source": [
        "list_example = [1, 'two', 3, 4.0, 5]\n",
        "list_example[3] = 'four'\n",
        "print(list_example[3])"
      ],
      "metadata": {
        "colab": {
          "base_uri": "https://localhost:8080/"
        },
        "id": "4CV_d2NP1X2f",
        "outputId": "b0417ff7-ed84-4d37-bbd9-c964b05c941e"
      },
      "execution_count": null,
      "outputs": [
        {
          "output_type": "stream",
          "name": "stdout",
          "text": [
            "four\n"
          ]
        }
      ]
    },
    {
      "cell_type": "markdown",
      "source": [
        "# Sequence Type – Part 2 (Tuple)\n",
        "The Tuple data type is also used to store a set of data. This data type begins with an opening bracket ( ( ), separates each element in it with a comma ( , ) and ends with a closing parenthesis ( ) ). As an example:"
      ],
      "metadata": {
        "id": "QAAzHbu42Z67"
      }
    },
    {
      "cell_type": "code",
      "source": [
        "tuple_example = (1,'February',True,45.67)"
      ],
      "metadata": {
        "id": "ukfIa1jr2Dil"
      },
      "execution_count": null,
      "outputs": []
    },
    {
      "cell_type": "markdown",
      "source": [
        "The index rules and access to elements in a tuple are similar to lists. For example:"
      ],
      "metadata": {
        "id": "-8dGNHhk29bf"
      }
    },
    {
      "cell_type": "code",
      "source": [
        "tuple_example = ('January','February','March','April')\n",
        "print(tuple_example[0])"
      ],
      "metadata": {
        "colab": {
          "base_uri": "https://localhost:8080/"
        },
        "id": "d5o-AC_U2yid",
        "outputId": "8aacaaba-95ae-4b4a-cbae-0f653bc52bd5"
      },
      "execution_count": null,
      "outputs": [
        {
          "output_type": "stream",
          "name": "stdout",
          "text": [
            "January\n"
          ]
        }
      ]
    },
    {
      "cell_type": "markdown",
      "source": [
        "Unlike the list data type, the tuple data type is immutable, which means that the elements in the tuple data type cannot be changed after the declaration process."
      ],
      "metadata": {
        "id": "9s8Nj2SG3a9k"
      }
    },
    {
      "cell_type": "code",
      "source": [
        "tuple_example = (1,'February',True,45.67)\n",
        "tuple_example[2] = False"
      ],
      "metadata": {
        "colab": {
          "base_uri": "https://localhost:8080/",
          "height": 182
        },
        "id": "DTC_zE5e3dsU",
        "outputId": "5a796c2a-b3bd-4211-91e6-9ce201092a06"
      },
      "execution_count": null,
      "outputs": [
        {
          "output_type": "error",
          "ename": "TypeError",
          "evalue": "ignored",
          "traceback": [
            "\u001b[0;31m---------------------------------------------------------------------------\u001b[0m",
            "\u001b[0;31mTypeError\u001b[0m                                 Traceback (most recent call last)",
            "\u001b[0;32m<ipython-input-9-8f036d632f2a>\u001b[0m in \u001b[0;36m<module>\u001b[0;34m()\u001b[0m\n\u001b[1;32m      1\u001b[0m \u001b[0mtuple_example\u001b[0m \u001b[0;34m=\u001b[0m \u001b[0;34m(\u001b[0m\u001b[0;36m1\u001b[0m\u001b[0;34m,\u001b[0m\u001b[0;34m'February'\u001b[0m\u001b[0;34m,\u001b[0m\u001b[0;32mTrue\u001b[0m\u001b[0;34m,\u001b[0m\u001b[0;36m45.67\u001b[0m\u001b[0;34m)\u001b[0m\u001b[0;34m\u001b[0m\u001b[0;34m\u001b[0m\u001b[0m\n\u001b[0;32m----> 2\u001b[0;31m \u001b[0mtuple_example\u001b[0m\u001b[0;34m[\u001b[0m\u001b[0;36m2\u001b[0m\u001b[0;34m]\u001b[0m \u001b[0;34m=\u001b[0m \u001b[0;32mFalse\u001b[0m\u001b[0;34m\u001b[0m\u001b[0;34m\u001b[0m\u001b[0m\n\u001b[0m",
            "\u001b[0;31mTypeError\u001b[0m: 'tuple' object does not support item assignment"
          ]
        }
      ]
    },
    {
      "cell_type": "markdown",
      "source": [
        "## Set Type\n",
        "Similar to the sequence data type, the data set type is used to store data sets of other types. There are two types of data sets, namely, sets and frozensets.\n",
        "\n",
        "Set data types begin with an opening curly brace ( { ), separate each element in it with a comma ( , ) and end with a closing parenthesis ( } ). However, unlike sequence data types, such as lists, object data types do not allow elements with the same value and do not care about the order of the elements.\n",
        "\n",
        "As an example:"
      ],
      "metadata": {
        "id": "r8XSu3iD4DCI"
      }
    },
    {
      "cell_type": "code",
      "source": [
        "list_example = ['Dewi','Budi','Cici','Linda','Cici'] \n",
        "print(list_example)\n",
        "\n",
        "#Meanwhile on the data type set\n",
        "set_example = {'Dewi','Budi','Cici','Linda','Cici'}\n",
        "print(set_example)"
      ],
      "metadata": {
        "colab": {
          "base_uri": "https://localhost:8080/"
        },
        "id": "6jIEzqHs3flW",
        "outputId": "635ba827-21bd-4def-f0bc-5cd343ed35e6"
      },
      "execution_count": null,
      "outputs": [
        {
          "output_type": "stream",
          "name": "stdout",
          "text": [
            "['Dewi', 'Budi', 'Cici', 'Linda', 'Cici']\n",
            "{'Budi', 'Dewi', 'Linda', 'Cici'}\n"
          ]
        }
      ]
    },
    {
      "cell_type": "markdown",
      "source": [
        "From the two sample outputs in the program, it can be seen that:\n",
        "\n",
        "+ Unlike the data set type, the list data type cares about the order of each \n",
        "element when the list is declared. \n",
        "\n",
        "+ Unlike lists, which allow duplicate elements, data sets do not allow elements with the same value in them. The uniqueness of the two types of data is certainly a useful knowledge.\n",
        "\n",
        "+ The frozenset data type is an immutable set, which means that each element in the frozenset cannot be changed after its declaration. To create a frozenset data type."
      ],
      "metadata": {
        "id": "JuHeOxdr49Yg"
      }
    },
    {
      "cell_type": "code",
      "source": [
        "frozen_set = ({'Dewi','Budi','Cici','Linda','Cici'})\n",
        "print(frozen_set)"
      ],
      "metadata": {
        "colab": {
          "base_uri": "https://localhost:8080/"
        },
        "id": "DTWyRTGR5PBp",
        "outputId": "ae4833ab-97d8-4898-a400-f2d9cfb47675"
      },
      "execution_count": null,
      "outputs": [
        {
          "output_type": "stream",
          "name": "stdout",
          "text": [
            "{'Budi', 'Dewi', 'Linda', 'Cici'}\n"
          ]
        }
      ]
    },
    {
      "cell_type": "markdown",
      "source": [
        "# Mapping Type (Dictionary)\n",
        "The Mapping data type can be used to map a value to another value. In Python, the data type mapping is called a dictionary. Dictionary data types can be declared by starting with an opening curly brace** ( { ), separating each element in it with a comma ( , ) and closing it with a closing parenthesis ( } )**. Each element in a dictionary data type is declared with the format:"
      ],
      "metadata": {
        "id": "SO7NVvv55s7z"
      }
    },
    {
      "cell_type": "code",
      "source": [
        "#  'key' : 'value'"
      ],
      "metadata": {
        "id": "RE9zi82U5VnQ"
      },
      "execution_count": null,
      "outputs": []
    },
    {
      "cell_type": "markdown",
      "source": [
        "This is what differentiates the mapping data type from the data set type. To further clarify data type mapping, I studied the following code snippet:"
      ],
      "metadata": {
        "id": "zBzkFFXI6N5l"
      }
    },
    {
      "cell_type": "code",
      "source": [
        "person = {'name':'Taufik', 'job':'Data Engineer'}"
      ],
      "metadata": {
        "id": "LczYxGRM6D2O"
      },
      "execution_count": null,
      "outputs": []
    },
    {
      "cell_type": "markdown",
      "source": [
        "The code snippet above is an example of a declaration of a dictionary data type. Then, how about how to access information from this data type?"
      ],
      "metadata": {
        "id": "Q8X3Pc2k6gE0"
      }
    },
    {
      "cell_type": "code",
      "source": [
        "print(person['name'])\n",
        "print(person['job'])"
      ],
      "metadata": {
        "colab": {
          "base_uri": "https://localhost:8080/"
        },
        "id": "KEiLfosj6R96",
        "outputId": "507fb666-9a3c-4a7b-b7e8-cb333fe912ff"
      },
      "execution_count": null,
      "outputs": [
        {
          "output_type": "stream",
          "name": "stdout",
          "text": [
            "Taufik\n",
            "Data Engineer\n"
          ]
        }
      ]
    },
    {
      "cell_type": "markdown",
      "source": [
        "To access elements of a dictionary, I only need to specify the keywords contained in that dictionary."
      ],
      "metadata": {
        "id": "q9ztSm4t6x9S"
      }
    },
    {
      "cell_type": "markdown",
      "source": [
        "# PRACTICE"
      ],
      "metadata": {
        "id": "UjYNDgeN7pqw"
      }
    },
    {
      "cell_type": "code",
      "source": [
        "# Data declared in dictionary\n",
        "shoes = {\"name\": \"Niko shoes\", \"price\": 150000, \"discount\": 30000 }\n",
        "clothes = {\"name\": \"Unique clothes\", \"price\": 80000, \"discount\": 8000}\n",
        "pants = {\"name\": \"Leisures\", \"price\": 200000, \"discount\": 60000}\n",
        "shopping_list = [shoes, clothes, pants]\n",
        "\n",
        "# Calculate the price of each data after deducting the discount\n",
        "shoe_price = shoes[\"price\"] - shoes[\"discount\"]\n",
        "clothes_price = clothes[\"price\"] - clothes[\"discount\"]\n",
        "pants_price = pants[\"price\"] - pants[\"discount\"]\n",
        "# Calculate the total price\n",
        "total_price = shoe_price + clothes_price + pants_price\n",
        "# Calculate taxable price\n",
        "total_tax = total_price * 0.1 #tax 10%\n",
        "# Print total_price + total_tax\n",
        "print(total_price + total_tax)\n",
        "\n",
        "#Doing Line Simplification\n",
        "shoes = { \"name\" : \"Niko shoes\", \"price\": 150000, \"discount\": 30000 }\n",
        "clothes = { \"name\" : \"Unique clothes\", \"price\": 80000, \"discount\": 8000 }\n",
        "pants = { \"name\" : \"Pants\", \"price\": 200000, \"discount\": 60000 }\n",
        "shoes_price = shoes[\"price\"] - shoes[\"discount\"]\n",
        "clothes_price = clothes[\"price\"] - clothes[\"discount\"]\n",
        "pants_price = pants[\"price\"] - pants[\"discount\"]\n",
        "total_price = (shoes_price+clothes_price+pants_price) * 1.1\n",
        "print(total_price)"
      ],
      "metadata": {
        "colab": {
          "base_uri": "https://localhost:8080/"
        },
        "id": "gyrFQGLy6zkd",
        "outputId": "70decd5e-ae24-477c-b2d3-b073492faa32"
      },
      "execution_count": null,
      "outputs": [
        {
          "output_type": "stream",
          "name": "stdout",
          "text": [
            "365200.0\n",
            "365200.00000000006\n"
          ]
        }
      ]
    },
    {
      "cell_type": "markdown",
      "source": [
        "\n",
        "\n",
        "---\n",
        "\n",
        "\n",
        "\n",
        "---\n",
        "\n"
      ],
      "metadata": {
        "id": "H_ZwmYve7uTL"
      }
    },
    {
      "cell_type": "markdown",
      "source": [
        "**Day**-3 of #100DaysOfCode"
      ],
      "metadata": {
        "id": "dMStHecyWBEe"
      }
    },
    {
      "cell_type": "markdown",
      "source": [
        "# In Python, there are 6 groups of operators:\n",
        "\n",
        "1. Arithmetic operators\n",
        "2. Assignment operators\n",
        "3. Comparison operators\n",
        "4. Logical operators\n",
        "5. Identity operators\n",
        "6. Membership operators"
      ],
      "metadata": {
        "id": "o6KjPdasWAR0"
      }
    },
    {
      "cell_type": "markdown",
      "source": [
        "**1. Arithmetic Operators**\n"
      ],
      "metadata": {
        "id": "6PBuncU1aDOs"
      }
    },
    {
      "cell_type": "code",
      "source": [
        "# Additions\n",
        "a = 3 + 4\n",
        "\n",
        "# Subtraction\n",
        "b = 7 - 2\n",
        "\n",
        "# Multiplication\n",
        "c = 6*9\n",
        "\n",
        "# Division\n",
        "d = 8 / 4\n",
        "\n",
        "# Modulus\n",
        "e = 7 % 2\n",
        "f = 10 % 5\n",
        "\n",
        "# To the power\n",
        "g = 10 ** 2\n",
        "\n",
        "# Division by Rounding Down\n",
        "h = 5 // 2\n",
        "\n",
        "print(a, b, c, d, e, f, g, h)"
      ],
      "metadata": {
        "id": "JtVNkEit7v6p",
        "colab": {
          "base_uri": "https://localhost:8080/"
        },
        "outputId": "d601e184-2c8f-4d14-b097-4029931bdf7e"
      },
      "execution_count": null,
      "outputs": [
        {
          "output_type": "stream",
          "name": "stdout",
          "text": [
            "7 5 54 2.0 1 0 100 2\n"
          ]
        }
      ]
    },
    {
      "cell_type": "markdown",
      "source": [
        "# PRACTICE"
      ],
      "metadata": {
        "id": "I9JVbpHsYKR-"
      }
    },
    {
      "cell_type": "code",
      "source": [
        "# Initial code\n",
        "total_price = 150000\n",
        "discount_price = 0.3 # 30% discount\n",
        "tax = 0.1 # tax in percent ~ 10%\n",
        "pay_price = 1 - 0.5 # first line\n",
        "pay_price *= total_price # second row\n",
        "pay_tax = tax *pay_price # third row\n",
        "pay_price +=pay_tax # 4th row\n",
        "print(\"Initial code -> pay_price=\", pay_price)\n",
        "\n",
        "\n",
        "# Simplify the line of code by applying operator priority\n",
        "total_price = 150000\n",
        "discount_price = 0.3 # 30% discount\n",
        "tax = 0.1 # tax in percent ~ 10%\n",
        "pay_price = (1 - 0.5) * total_price #first row\n",
        "pay_price +=pay_price * tax # second row\n",
        "print(\"Code simplification -> pay_price=\", pay_price)"
      ],
      "metadata": {
        "colab": {
          "base_uri": "https://localhost:8080/"
        },
        "id": "Gpsp2EJkXQMx",
        "outputId": "25b00f1b-0a9d-47e7-a8ee-89b4d737d6d1"
      },
      "execution_count": null,
      "outputs": [
        {
          "output_type": "stream",
          "name": "stdout",
          "text": [
            "Initial code -> pay_price= 82500.0\n",
            "Code simplification -> pay_price= 82500.0\n"
          ]
        }
      ]
    },
    {
      "cell_type": "markdown",
      "source": [
        "bilangan = (5 % 3 ** 2) + (3 + 2 * 2) * (4 - 2) \n",
        "print(bilangan)"
      ],
      "metadata": {
        "id": "cHEEiAO4YJvL"
      }
    },
    {
      "cell_type": "code",
      "source": [
        "bilangan = (5 % 3 ** 2) + (3 + 2 * 2) * (4 - 2) \n",
        "print(bilangan)"
      ],
      "metadata": {
        "colab": {
          "base_uri": "https://localhost:8080/"
        },
        "id": "1_7pf04_ZFOe",
        "outputId": "9c428c95-aa02-484f-c850-af667a9f8833"
      },
      "execution_count": null,
      "outputs": [
        {
          "output_type": "stream",
          "name": "stdout",
          "text": [
            "19\n"
          ]
        }
      ]
    },
    {
      "cell_type": "markdown",
      "source": [
        "\n",
        "\n",
        "---\n",
        "\n",
        "\n",
        "\n",
        "\n",
        "---\n",
        "\n"
      ],
      "metadata": {
        "id": "XGQ4LmeJZaZD"
      }
    },
    {
      "cell_type": "markdown",
      "source": [
        "Day-4 of #100DaysOfCode"
      ],
      "metadata": {
        "id": "b7spxtCgUkhi"
      }
    },
    {
      "cell_type": "markdown",
      "source": [
        "# Python Conditioning for Decision\n",
        "\n",
        "Like other programming languages, the Python programming language provides decision statements to interact with boolean variables and logical operators.\n",
        "\n",
        "\n",
        "Where *conditions* contains an operator that returns a truth value; or some operator that returns a truth value, combined with a logical operator. Through an if statement, <do_action_1> to <do_action_n> will be executed when *conditions* are True.\n",
        "\n",
        " \n",
        "In writing a series of actions (<do_action_1>, ... , <do_action_n>) in an if statement, I have to package each action in a block by adding an indent instead of the action."
      ],
      "metadata": {
        "id": "g12tayIQVkQd"
      }
    },
    {
      "cell_type": "code",
      "source": [
        "# if statement\n",
        "x = 4\n",
        "if x % 2 == 0: # if the remainder of x by 2 equals 0\n",
        "     print(\"x is divisible by two\") # action statement is indented\n",
        "# Statements if ... elif ... else\n",
        "x = 7\n",
        "if x % 2 == 0: # if the remainder of x by 2 equals 0\n",
        "     print(\"x is divisible by two\")\n",
        "elif x % 3 == 0: # if the remainder of x by 3 equals 0\n",
        "     print(\"x is divisible by three\")\n",
        "elif x % 5 == 0: # if the remainder of x by 5 equals 0\n",
        "     print(\"x is divisible by 5\")\n",
        "else:\n",
        "     print(\"x is not divisible by two, three or five\")"
      ],
      "metadata": {
        "id": "UpdyoSDfZHHt",
        "colab": {
          "base_uri": "https://localhost:8080/"
        },
        "outputId": "e21e50f4-94c2-4001-a7ad-4d4d03b02ea3"
      },
      "execution_count": 1,
      "outputs": [
        {
          "output_type": "stream",
          "name": "stdout",
          "text": [
            "x is divisible by two\n",
            "x is not divisible by two, three or five\n"
          ]
        }
      ]
    },
    {
      "cell_type": "markdown",
      "source": [
        "Then, to complete an if statement, I can add one or more elif decission statements, to check other conditions, when the conditions in the if or elif statements above are not met.\n",
        "\n",
        "ps: I can also change the value of x so it's easier to understand which decission statement will be executed by the code snippet I've run."
      ],
      "metadata": {
        "id": "gPT8lwynUj_K"
      }
    },
    {
      "cell_type": "code",
      "source": [
        "hours = 13\n",
        "if hours >= 5 and hours <= 12: # as long as the hours are between 5 and d. 12\n",
        "     print(\"Good morning!\")\n",
        "elif hours >= 12 and hours <= 17: # as long as the hours are between 12 and d. 17\n",
        "     print(\"Good afternoon!\")\n",
        "elif hours >= 17 and hours <= 19: # as long as the hours are between 17 and d. 19\n",
        "     print(\"Good afternoon!\")\n",
        "else: # in addition to the above conditions\n",
        "     print(\"Good evening!\")"
      ],
      "metadata": {
        "colab": {
          "base_uri": "https://localhost:8080/"
        },
        "id": "UIRLZEyvWZvc",
        "outputId": "a0cea171-d85a-4cce-8d99-84b43a1500ca"
      },
      "execution_count": 3,
      "outputs": [
        {
          "output_type": "stream",
          "name": "stdout",
          "text": [
            "Good afternoon!\n"
          ]
        }
      ]
    },
    {
      "cell_type": "markdown",
      "source": [
        "# Python Conditioning for Decision\n",
        "\n",
        "From what I learned in the earlier part of the decission statement, the desission operator can also be used with logical operators.\n",
        "\n",
        "As a side note, I learned that actions in a statement can be written in additional (other) statements known as nested if."
      ],
      "metadata": {
        "id": "3-qph9FPXSEe"
      }
    },
    {
      "cell_type": "markdown",
      "source": [
        "# PRACTICE"
      ],
      "metadata": {
        "id": "05ZnfuWmXi9O"
      }
    },
    {
      "cell_type": "code",
      "source": [
        "hour = 17\n",
        "bill_to = 'Mr. Yoyo'\n",
        "warehousing = { 'daily_price': 1000000, 'total_day':15 }\n",
        "cleansing = { 'daily_price': 1500000, 'total_day':10 }\n",
        "integration = { 'daily_price':2000000, 'total_day':15 }\n",
        "transform = { 'daily_price':2500000, 'total_day':10 }\n",
        "\n",
        "sub_warehousing = warehousing['daily_price']*warehousing['total_day']\n",
        "sub_cleansing = cleansing['daily_price']*cleansing['total_day']\n",
        "sub_integration = integration['daily_price']*integration['total_day']\n",
        "sub_transform = transform['daily_price']*transform['total_day']\n",
        "total_price = sub_warehousing+sub_cleansing+sub_integration+sub_transform\n",
        "\n",
        "print(\"Billed to:\")\n",
        "print(bill_to)\n",
        "if hours > 19:\n",
        "     print(\"Good evening, you have to pay a bill of:\")\n",
        "elif hours > 17:\n",
        "     print(\"Good afternoon, you have to pay the bill of:\")\n",
        "elif hours > 12:\n",
        "     print(\"Good afternoon, you have to pay a bill of:\")\n",
        "else:\n",
        "     print(\"Good morning, you have to pay a bill of:\")\n",
        "print(total_price)"
      ],
      "metadata": {
        "colab": {
          "base_uri": "https://localhost:8080/"
        },
        "id": "sECW56fdWkAa",
        "outputId": "5f7eeee2-61f1-4239-cea4-cd33544d46a4"
      },
      "execution_count": 4,
      "outputs": [
        {
          "output_type": "stream",
          "name": "stdout",
          "text": [
            "Billed to:\n",
            "Mr. Yoyo\n",
            "Good afternoon, you have to pay a bill of:\n",
            "85000000\n"
          ]
        }
      ]
    },
    {
      "cell_type": "code",
      "source": [
        ""
      ],
      "metadata": {
        "id": "kXmVM8IWXqsn"
      },
      "execution_count": null,
      "outputs": []
    }
  ]
}