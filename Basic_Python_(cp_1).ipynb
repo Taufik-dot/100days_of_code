{
  "nbformat": 4,
  "nbformat_minor": 0,
  "metadata": {
    "colab": {
      "name": "Basic Python (cp.1).ipynb",
      "provenance": [],
      "collapsed_sections": [],
      "authorship_tag": "ABX9TyM6BjtfwNo6vk24vgq0CkJp"
    },
    "kernelspec": {
      "name": "python3",
      "display_name": "Python 3"
    },
    "language_info": {
      "name": "python"
    }
  },
  "cells": [
    {
      "cell_type": "markdown",
      "source": [
        "Day-1 of #100DaysOfCode"
      ],
      "metadata": {
        "id": "WRW13l6OkadS"
      }
    },
    {
      "cell_type": "markdown",
      "source": [
        "# Basic Python (cp.1)\n",
        "\n",
        "by. N. Taufik Kurrahman"
      ],
      "metadata": {
        "id": "OoMsLIvxeKS6"
      }
    },
    {
      "cell_type": "markdown",
      "source": [
        "Python is a programming language intended for general-purpose programming and belongs to the category of high-level programming languages.\n",
        "\n",
        "As a general-purpose programming language, Python is used for various problems such as: web or mobile application development, data science, etc.\n",
        "\n",
        "Python is included in the high-level programming language category because the Python programming language is easy to read and write by humans.\n",
        "\n",
        "The Python programming language was created by Guido van Rossum and was first introduced in 1991 as an open-source project.\n",
        "\n",
        "The open-source nature of Python means that anyone can develop computer programs using the Python programming language for both commercial/non-commercial purposes."
      ],
      "metadata": {
        "id": "rP7IJuPtlNow"
      }
    },
    {
      "cell_type": "markdown",
      "source": [
        "# Print() function.\n",
        "With the print() function, I get output/a message to the user's screen."
      ],
      "metadata": {
        "id": "AJ7Bv46slhAu"
      }
    },
    {
      "cell_type": "code",
      "source": [
        "print(\"Hello World!\")   #important thing for Start Learning Programming Language"
      ],
      "metadata": {
        "colab": {
          "base_uri": "https://localhost:8080/"
        },
        "id": "nGIf9QRelOa6",
        "outputId": "80cef323-3015-448d-d6dc-d43e1ec0f5ee"
      },
      "execution_count": 2,
      "outputs": [
        {
          "output_type": "stream",
          "name": "stdout",
          "text": [
            "Hello World!\n"
          ]
        }
      ]
    },
    {
      "cell_type": "code",
      "source": [
        "print(\"I'm currently learning Python :)\")"
      ],
      "metadata": {
        "colab": {
          "base_uri": "https://localhost:8080/"
        },
        "id": "yu8LVpXSmAb5",
        "outputId": "7b12a450-166e-4238-d3c2-4dba26d1321d"
      },
      "execution_count": 4,
      "outputs": [
        {
          "output_type": "stream",
          "name": "stdout",
          "text": [
            "I'm currently learning Python :)\n"
          ]
        }
      ]
    },
    {
      "cell_type": "markdown",
      "source": [
        "# Program Structure of Python"
      ],
      "metadata": {
        "id": "W5Mj-bwpoSlX"
      }
    },
    {
      "cell_type": "code",
      "source": [
        "#1. Statements: Instructions given line by line to be executed by the machine.\n",
        "\n",
        "print(\"Nurul Taufik Kurrahman\")"
      ],
      "metadata": {
        "colab": {
          "base_uri": "https://localhost:8080/"
        },
        "id": "MRHYEVpIgyH7",
        "outputId": "59a42a39-6d86-4642-e251-1cbeb5c9d6c7"
      },
      "execution_count": null,
      "outputs": [
        {
          "output_type": "stream",
          "name": "stdout",
          "text": [
            "Nurul Taufik Kurrahman\n"
          ]
        }
      ]
    },
    {
      "cell_type": "code",
      "source": [
        "#2. Variables: Storage locations that can be used to store data or information.\n",
        "\n",
        "var1 = 4\n",
        "var2 = 9\n",
        "var3 = \"Taufik\"\n",
        "\n",
        "print(var1 + var2)\n",
        "print(var3 + str(var1 + var2))"
      ],
      "metadata": {
        "colab": {
          "base_uri": "https://localhost:8080/"
        },
        "id": "0zrDXr4OoSMm",
        "outputId": "7efb1119-c3e1-4454-b42b-004cce09ff20"
      },
      "execution_count": 5,
      "outputs": [
        {
          "output_type": "stream",
          "name": "stdout",
          "text": [
            "13\n",
            "Taufik13\n"
          ]
        }
      ]
    },
    {
      "cell_type": "code",
      "source": [
        "price = 20000\n",
        "discount = 2000\n",
        "price_after_discount = price - discount\n",
        "final_price = price_after_discount * 1.1\n",
        "print(final_price)"
      ],
      "metadata": {
        "colab": {
          "base_uri": "https://localhost:8080/"
        },
        "id": "TjA9tVXskU4C",
        "outputId": "9572a49d-ee98-4691-a18e-e8a3f0bbdff4"
      },
      "execution_count": 6,
      "outputs": [
        {
          "output_type": "stream",
          "name": "stdout",
          "text": [
            "19800.0\n"
          ]
        }
      ]
    },
    {
      "cell_type": "markdown",
      "source": [
        "**Python Variable Naming Rules**\n",
        "\n",
        "\n",
        "Naming a variable in python can be said to be valid as long as it fulfills the following rules:\n",
        "\n",
        "The name of a variable must start with a letter (a-z, A-Z) or an underscore character (_) and cannot start with a number (0-9).\n",
        "Variables can only contain alphabetic characters, numbers and underscores (a-z, A-Z, 0-9, _).\n",
        "Variables are case-sensitive which means that the variables HIGH, high, and High refer to three different variables.\n",
        "Apart from being able to declare the value of a variable line by line, we can also declare multiple variables on a single line by using expressions such as:"
      ],
      "metadata": {
        "id": "t5ChPOvCpkaq"
      }
    },
    {
      "cell_type": "code",
      "source": [
        "bil1, bil2 = 3, 4\n",
        "example = \"How are you?\"; sampling = \"Good bye\""
      ],
      "metadata": {
        "id": "JJdk9OBGYYka"
      },
      "execution_count": 17,
      "outputs": []
    },
    {
      "cell_type": "markdown",
      "source": [
        "1. Reserved Words: A collection of words that have a special meaning in the Python programming language. The words False, return, and for are examples of reserved words.\n",
        "\n",
        "   Note: Cannot declare variables using a reserved word!\n",
        "\n",
        " \n",
        "2. Whitespace: In Python, spaces and tabs have a special meaning to mark a series of blocks in Python code. This will be explained further in the section on selection structure and loop structure in Python.\n",
        "\n",
        "\n",
        "3. Comments: Comments are a collection of text written in a program that will not affect the results of a program. Although it does not affect program results, comments are an important component in program development. This is because comments can be inserted between a set of statements that have been written, to communicate with other fellow programmers in the same team.\n",
        "\n",
        "   There are two types of comments in Python, that is:"
      ],
      "metadata": {
        "id": "oGXdwy0xuBIJ"
      }
    },
    {
      "cell_type": "code",
      "source": [
        "\n",
        "# a. single line comment (comments dalam satu baris) \n",
        "    #comment satu baris\n",
        "\n",
        "'''\n",
        "b. multi line comment (comments dalam beberapa baris) \n",
        "\n",
        "    multi line comment\n",
        "    multi line comment\n",
        "    multi line comment\n",
        "''' "
      ],
      "metadata": {
        "colab": {
          "base_uri": "https://localhost:8080/",
          "height": 35
        },
        "id": "iVGHV0ARoYKR",
        "outputId": "0a91f196-e1e5-486f-b082-3f494b526c82"
      },
      "execution_count": 14,
      "outputs": [
        {
          "output_type": "execute_result",
          "data": {
            "application/vnd.google.colaboratory.intrinsic+json": {
              "type": "string"
            },
            "text/plain": [
              "'\\nb. multi line comment (comments dalam beberapa baris) \\n\\n    multi line comment\\n    multi line comment\\n    multi line comment\\n'"
            ]
          },
          "metadata": {},
          "execution_count": 14
        }
      ]
    },
    {
      "cell_type": "markdown",
      "source": [
        "\n",
        "\n",
        "---\n",
        "\n"
      ],
      "metadata": {
        "id": "Kis727FIu6pq"
      }
    },
    {
      "cell_type": "markdown",
      "source": [
        "# Basic Data Types: Null, Boolean, Numeric and Text\n",
        "1. Null Type: The null data type in Python is used to store empty or non-existent values which are declared as None.\n",
        "\n",
        "2. Boolean Type: The boolean or bool data type is used to store the truth value (True, False) of a logical expression.\n",
        "\n",
        "3. Numeric Type: The data type used to store data in the form of numbers. There are two kinds of numeric data types, namely int to store integers (e.g.: 0, 1, 2, 404, -500, -1000) and float to store real numbers (e.g.: 0.5, 1.01, 2.05, 4.04)\n",
        "\n",
        "4. Text Type: In Python, the string data type (str) is used to store text data. The string data type starts with quotation marks (either one/two) and ends with quotation marks. Examples: \"Text\", \"Sample text in Python\", and 'Text in Python'."
      ],
      "metadata": {
        "id": "U12YQB3wu8sx"
      }
    },
    {
      "cell_type": "code",
      "source": [
        "x = True\n",
        "y = False\n",
        "example_int = 99\n",
        "example_float = 45.75\n",
        "example_str = 'example of string'\n",
        "\n",
        "print(x)\n",
        "print(example_int)\n",
        "print(example_float)\n",
        "print(example_str)"
      ],
      "metadata": {
        "id": "pIW9axdDoyh7",
        "colab": {
          "base_uri": "https://localhost:8080/"
        },
        "outputId": "550f689d-6c0b-405b-deb7-da0d590c0f0b"
      },
      "execution_count": 16,
      "outputs": [
        {
          "output_type": "stream",
          "name": "stdout",
          "text": [
            "True\n",
            "99\n",
            "45.75\n",
            "example of string\n"
          ]
        }
      ]
    },
    {
      "cell_type": "code",
      "source": [
        ""
      ],
      "metadata": {
        "id": "Y8uOa2EXwCAM"
      },
      "execution_count": null,
      "outputs": []
    }
  ]
}