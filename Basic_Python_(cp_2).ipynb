{
  "nbformat": 4,
  "nbformat_minor": 0,
  "metadata": {
    "colab": {
      "name": "Basic Python (cp.2).ipynb",
      "provenance": [],
      "collapsed_sections": [],
      "authorship_tag": "ABX9TyMqgGxd2I+vt32FzEHIM7xm"
    },
    "kernelspec": {
      "name": "python3",
      "display_name": "Python 3"
    },
    "language_info": {
      "name": "python"
    }
  },
  "cells": [
    {
      "cell_type": "markdown",
      "source": [
        "Day-7 of #100DaysOfCode"
      ],
      "metadata": {
        "id": "ZfIUQ_KKzRBt"
      }
    },
    {
      "cell_type": "markdown",
      "source": [
        "# Basic Python (cp.2)\n",
        "\n",
        "by. N. Taufik Kurrahman"
      ],
      "metadata": {
        "id": "OoMsLIvxeKS6"
      }
    },
    {
      "cell_type": "markdown",
      "source": [
        "# Create Function\n",
        "Functions in Python are created with the def keyword followed by the name of the function.\n",
        "\n",
        "Example :"
      ],
      "metadata": {
        "id": "l9z2cHyLznu-"
      }
    },
    {
      "cell_type": "code",
      "execution_count": null,
      "metadata": {
        "id": "j1zVqqlfy6Wk"
      },
      "outputs": [],
      "source": [
        "def function_name(): #Function Initialization & Function Name\n",
        "     print(\"Hello this is a function\") #content of the function with an indentation (space) at the front"
      ]
    },
    {
      "cell_type": "markdown",
      "source": [
        "The way to call the function is quite simple. Just like this:"
      ],
      "metadata": {
        "id": "WUFJp-vr0cyU"
      }
    },
    {
      "cell_type": "code",
      "source": [
        "function_name()"
      ],
      "metadata": {
        "colab": {
          "base_uri": "https://localhost:8080/"
        },
        "id": "f_NLI_rTzSqh",
        "outputId": "4f8059d9-f4ee-4c7e-f5ed-54e54dab1a89"
      },
      "execution_count": null,
      "outputs": [
        {
          "output_type": "stream",
          "name": "stdout",
          "text": [
            "Hello this is a function\n"
          ]
        }
      ]
    },
    {
      "cell_type": "markdown",
      "source": [
        "As an example of the full code, you can try typing the code below:"
      ],
      "metadata": {
        "id": "icMjIX6o0mMD"
      }
    },
    {
      "cell_type": "code",
      "source": [
        "# Create Function\n",
        "def greeting():\n",
        "     print(\"Hello, good morning\")\n",
        "\n",
        "\n",
        "\n",
        "## Function Call\n",
        "greeting()"
      ],
      "metadata": {
        "id": "M20t3NlD0m3N"
      },
      "execution_count": null,
      "outputs": []
    },
    {
      "cell_type": "markdown",
      "source": [
        "## Parameters in function\n",
        "Now, how about we want to pass a value input into a function? We can use parameters. Parameter is a variable that holds a value to be processed into a function.\n",
        "\n",
        "Here is an example of the code:"
      ],
      "metadata": {
        "id": "BWMdCeCM1IGp"
      }
    },
    {
      "cell_type": "code",
      "source": [
        "def triangle(base, height): #base and height are the input parameters\n",
        "     area = (base * height) / 2\n",
        "     print(\"Area of triangle: %f\" % area);\n",
        "\n",
        "\n",
        "\n",
        "# function call\n",
        "##4 and 6 are parameters that are input into the triangle area function\n",
        "triangle(4, 6)"
      ],
      "metadata": {
        "colab": {
          "base_uri": "https://localhost:8080/"
        },
        "id": "bIVRbbZF1Ihy",
        "outputId": "eb0dc737-f782-4b48-9bbc-adcd9371270b"
      },
      "execution_count": null,
      "outputs": [
        {
          "output_type": "stream",
          "name": "stdout",
          "text": [
            "Area of triangle: 12.000000\n"
          ]
        }
      ]
    },
    {
      "cell_type": "markdown",
      "source": [
        "## Function with Return Value\n",
        "Functions that do not return a value are usually called procedures. However, sometimes we need the result of the function to be used in the next process. Then the function must return the value of its processing result. How to return a value is to use the return keyword and then followed by the value or variable to be returned.\n",
        "\n",
        "Here is an example of the code:"
      ],
      "metadata": {
        "id": "7ePqXPzj2MWK"
      }
    },
    {
      "cell_type": "code",
      "source": [
        "def luas_segitiga(alas, tinggi): #alas dan tinggi merupakan parameter yang masuk\n",
        "    luas = (alas * tinggi) / 2\n",
        "    return luas\n",
        "\n",
        "\n",
        "# Pemanggilan fungsi\n",
        "##4 dan 6 merupakan parameter yang diinputkan kedalam fungsi luas segitiga \n",
        "print(\"Luas segitiga: %d\" % luas_segitiga(4, 6))​"
      ],
      "metadata": {
        "id": "40amquoy2NJy"
      },
      "execution_count": null,
      "outputs": []
    },
    {
      "cell_type": "markdown",
      "source": [
        "\n",
        "\n",
        "---\n",
        "\n",
        "\n",
        "\n",
        "---\n",
        "\n"
      ],
      "metadata": {
        "id": "TvetP1629tLp"
      }
    },
    {
      "cell_type": "markdown",
      "source": [
        "Day-8 of #100DaysOfCode"
      ],
      "metadata": {
        "id": "0iF_MrkF9r3c"
      }
    },
    {
      "cell_type": "markdown",
      "source": [
        "# Module in Python\n",
        "\n",
        "Modules are python objects that are available from the developer or you can develop yourself. In fairly simple language, a module is a collection of Python code structured into functions, classes, and variables. Python itself has many libraries and modules that can be accessed by users for free.\n",
        "\n",
        "Generally, modules are developed for general purposes with broad applications such as:\n",
        "\n",
        "1. for processing numeric data such as 1D, 2D, 3D or up to nD arrays with an example being numpy\n",
        "2. For scientific computing based on numerical and statistical methods, examples are scipy and statsmodel\n",
        "3. for data processing and analysis such as Microsoft Excel or Google Spreadsheets with examples being pandas, pypolar, and modin\n",
        "4. for data visualization with examples, namely matplotlib, seaborn, plotnine, altair, mayavi, bokeh, plotly, etc.\n",
        "5. for machine learning with examples namely scikit-learn, xgboost, lightgbm, catboost, pycaret, etc.\n",
        "6. for deep learning with examples are hard, tensorflow, pytorch, cafe, etc\n",
        "\n",
        "Of course there are many more to mention. The libraries or modules that have been mentioned are libraries that are commonly used by data scientists."
      ],
      "metadata": {
        "id": "EZjP1rka9z0q"
      }
    },
    {
      "cell_type": "markdown",
      "source": [
        "## Import Package and Using module\n",
        "In this practical session, we will use the math module which is the standard module for various math functions. First call this module as shown below:"
      ],
      "metadata": {
        "id": "vMPYmwlq-KDi"
      }
    },
    {
      "cell_type": "code",
      "source": [
        "import math"
      ],
      "metadata": {
        "id": "3F4PQQrz95tj"
      },
      "execution_count": null,
      "outputs": []
    },
    {
      "cell_type": "markdown",
      "source": [
        "It can be seen that using the module is quite simple.\n",
        "\n",
        "In general, modules have a lot of functions. The way programmers access the functions available in a module is also different. For now, take note of the following code and then type the below code in the Code Editor:"
      ],
      "metadata": {
        "id": "mER9AV9s-pR8"
      }
    },
    {
      "cell_type": "code",
      "source": [
        "import math\n",
        "print(\"The value of pi is:\", math.pi) # math.pi is the syntax for calling the function pi"
      ],
      "metadata": {
        "colab": {
          "base_uri": "https://localhost:8080/"
        },
        "id": "4zRQxXIH-P9D",
        "outputId": "e0f50153-9922-4f12-c2de-134c188cdac1"
      },
      "execution_count": null,
      "outputs": [
        {
          "output_type": "stream",
          "name": "stdout",
          "text": [
            "The value of pi is: 3.141592653589793\n"
          ]
        }
      ]
    },
    {
      "cell_type": "markdown",
      "source": [
        "# Import with Module Rename or Alias\n",
        "We can import the module by renaming it. It is common practice to shorten long module names."
      ],
      "metadata": {
        "id": "z6NHRfCC_EeE"
      }
    },
    {
      "cell_type": "code",
      "source": [
        "import math as m          #use m as module rename or alias\n",
        "print(\"The value of pi is:\", m.pi)      #m.pi is the syntax to call the function​"
      ],
      "metadata": {
        "colab": {
          "base_uri": "https://localhost:8080/"
        },
        "id": "w1uCChtC-0vq",
        "outputId": "1508a87c-d418-4b26-ccf3-a74297ea8f53"
      },
      "execution_count": null,
      "outputs": [
        {
          "output_type": "stream",
          "name": "stdout",
          "text": [
            "The value of pi is: 3.141592653589793\n"
          ]
        }
      ]
    },
    {
      "cell_type": "markdown",
      "source": [
        "## Import Some Functions\n",
        "A module can have tens or hundreds of functions. Sometimes in certain cases when programming, we only need one, two, or a few functions. To minimize the inefficiency of a program in loading a module as has been done in the import module_name format. Next, we can import only the required modules using the format from module_name import function_name"
      ],
      "metadata": {
        "id": "kxGZyw75_pRg"
      }
    },
    {
      "cell_type": "code",
      "source": [
        "from math import pi\n",
        "\n",
        "print(\"The value of pi is\", pi)"
      ],
      "metadata": {
        "colab": {
          "base_uri": "https://localhost:8080/"
        },
        "id": "xQKoim4n_FZe",
        "outputId": "09cfc503-8ea0-4d94-d1ec-2f69547be49e"
      },
      "execution_count": null,
      "outputs": [
        {
          "output_type": "stream",
          "name": "stdout",
          "text": [
            "The value of pi is 3.141592653589793\n"
          ]
        }
      ]
    },
    {
      "cell_type": "markdown",
      "source": [
        "# Import all the contents of the Modules\n",
        "However, if you really need a lot, such as more than 10 or even hundreds of functions, you can import all of them using the from module_name import * format. The * here indicates that all functions are imported into the code."
      ],
      "metadata": {
        "id": "C37_K1_QAGFT"
      }
    },
    {
      "cell_type": "code",
      "source": [
        "from math import *\n",
        "\n",
        "print(\"The value of e is:\", e)"
      ],
      "metadata": {
        "colab": {
          "base_uri": "https://localhost:8080/"
        },
        "id": "I4o1qF_fAGrg",
        "outputId": "f3953361-ab3d-4709-affd-c2cb3b6be3f7"
      },
      "execution_count": null,
      "outputs": [
        {
          "output_type": "stream",
          "name": "stdout",
          "text": [
            "The value of e is: 2.718281828459045\n"
          ]
        }
      ]
    }
  ]
}